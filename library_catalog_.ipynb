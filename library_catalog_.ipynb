{
 "cells": [
  {
   "cell_type": "code",
   "execution_count": 1,
   "metadata": {},
   "outputs": [],
   "source": [
    "import bs4 as bs\n",
    "import requests\n",
    "import pandas as pd\n"
   ]
  },
  {
   "cell_type": "code",
   "execution_count": 2,
   "metadata": {},
   "outputs": [],
   "source": [
    "#Llamada a la página web. Se traen las tablas, cada una contine datos de 1 libro\n",
    "#Dos columnas, la de la izquierda con el nombre de los datos (categorías), la derecha con los datos\n",
    "#Cada fila es una lista con dos elementos ([0] categorías; [1] datos). 28 filas por tabla\n",
    "\n",
    "data = []\n",
    "\n",
    "\n",
    "for i in range(1,400):\n",
    "    url = 'http://catalogo.bibliotecas.gob.ar/pergamo/opac/cgi-bin/pgopac.cgi?VDOC=1.'+str(i) + '#Ejemplares'\n",
    "    resp = requests.get(url)\n",
    "    \n",
    "    resp = resp.text\n",
    "    soup = bs.BeautifulSoup(resp, 'html.parser')\n",
    "    table = soup.find('table', class_='wsTableGrid', id='tbGeneral')\n",
    "\n",
    "    if table is None:\n",
    "        continue\n",
    "    for row in (table.find_all('tr')):\n",
    "        derecha = row.find_all('td')\n",
    "        data.append(derecha)     \n",
    "      "
   ]
  },
  {
   "cell_type": "code",
   "execution_count": 3,
   "metadata": {},
   "outputs": [
    {
     "data": {
      "text/plain": [
       "10005"
      ]
     },
     "execution_count": 3,
     "metadata": {},
     "output_type": "execute_result"
    }
   ],
   "source": [
    "len(data)"
   ]
  },
  {
   "cell_type": "code",
   "execution_count": 4,
   "metadata": {},
   "outputs": [],
   "source": [
    "#Creamos un diccionario para agrupar los datos según el nombre de cada uno. Y luego pasamos los datos agrupados a listas\n",
    "#Resulta una lista (result) de 28 listas (cada una contiene los datos de las categorías de las tablas)\n",
    "d = {}\n",
    "for subl in data:\n",
    "    try:\n",
    "        if subl[0] in d:\n",
    "            d[subl[0]].append(subl[1])\n",
    "        else:\n",
    "            d[subl[0]] = [subl[1]]\n",
    "    except IndexError:\n",
    "        continue\n",
    "result = list(d.values())\n"
   ]
  },
  {
   "cell_type": "code",
   "execution_count": 5,
   "metadata": {},
   "outputs": [
    {
     "data": {
      "text/plain": [
       "28"
      ]
     },
     "execution_count": 5,
     "metadata": {},
     "output_type": "execute_result"
    }
   ],
   "source": [
    "len(d)"
   ]
  },
  {
   "cell_type": "code",
   "execution_count": 6,
   "metadata": {},
   "outputs": [
    {
     "data": {
      "text/plain": [
       "10005"
      ]
     },
     "execution_count": 6,
     "metadata": {},
     "output_type": "execute_result"
    }
   ],
   "source": [
    "len(data)"
   ]
  },
  {
   "cell_type": "code",
   "execution_count": 7,
   "metadata": {},
   "outputs": [
    {
     "data": {
      "text/plain": [
       "28"
      ]
     },
     "execution_count": 7,
     "metadata": {},
     "output_type": "execute_result"
    }
   ],
   "source": [
    "len(result)"
   ]
  },
  {
   "cell_type": "code",
   "execution_count": 9,
   "metadata": {},
   "outputs": [
    {
     "data": {
      "text/plain": [
       "345"
      ]
     },
     "execution_count": 9,
     "metadata": {},
     "output_type": "execute_result"
    }
   ],
   "source": [
    "#De las 399 iteraciones, quedan 299 puesto que en medio había listas vacías\n",
    "len(result[4])"
   ]
  },
  {
   "cell_type": "code",
   "execution_count": 12,
   "metadata": {},
   "outputs": [],
   "source": [
    "#Se crea una función para pasar los elementos de las listas de 'td' HTML a text\n",
    "def pass_to_text(list_):\n",
    "    text_list = []\n",
    "    for tag in list_:\n",
    "        text_list.append(tag.get_text())\n",
    "     \n",
    "    return(text_list)\n"
   ]
  },
  {
   "cell_type": "code",
   "execution_count": 13,
   "metadata": {},
   "outputs": [],
   "source": [
    "#Se llama a la función para iterar sobre las listas con los datos que nos interesan\n",
    "isbn = pass_to_text(result[0])\n",
    "tipo_texto=pass_to_text(result[1])\n",
    "titulo = pass_to_text(result[4])\n",
    "autor = pass_to_text(result[7])\n",
    "editorial = pass_to_text(result[10])\n",
    "fecha_edicion = pass_to_text(result[11])\n",
    "lugar_edicion = pass_to_text(result[13])\n",
    "materia_0 = pass_to_text(result[26])\n",
    "fecha_alta = pass_to_text(result[27])\n",
    "\n"
   ]
  },
  {
   "cell_type": "code",
   "execution_count": 14,
   "metadata": {},
   "outputs": [],
   "source": [
    "# Limpiamos los strings de la lista materia_0 para que sólo quede el nombre de la materia\n",
    "# sin perden elementos vacios\n",
    "\n",
    "materia = []\n",
    "for elem in materia_0:\n",
    "    if elem:\n",
    "        new_elem = ''.join(caracter\n",
    "                           for caracter in elem\n",
    "                           if caracter.isalpha() or\n",
    "                           caracter.isspace() or\n",
    "                           caracter == '-')\n",
    "        materia.append(new_elem)\n",
    "    else:\n",
    "        materia.append(elem)\n"
   ]
  },
  {
   "cell_type": "code",
   "execution_count": 15,
   "metadata": {},
   "outputs": [
    {
     "data": {
      "text/html": [
       "<div>\n",
       "<style scoped>\n",
       "    .dataframe tbody tr th:only-of-type {\n",
       "        vertical-align: middle;\n",
       "    }\n",
       "\n",
       "    .dataframe tbody tr th {\n",
       "        vertical-align: top;\n",
       "    }\n",
       "\n",
       "    .dataframe thead th {\n",
       "        text-align: right;\n",
       "    }\n",
       "</style>\n",
       "<table border=\"1\" class=\"dataframe\">\n",
       "  <thead>\n",
       "    <tr style=\"text-align: right;\">\n",
       "      <th></th>\n",
       "      <th>ISBN</th>\n",
       "      <th>Tipo_Texto</th>\n",
       "      <th>Título</th>\n",
       "      <th>Autor</th>\n",
       "      <th>Editorial</th>\n",
       "      <th>Fecha_Edición</th>\n",
       "      <th>Lugar_Edición</th>\n",
       "      <th>Materia</th>\n",
       "      <th>Fecha_Alta</th>\n",
       "    </tr>\n",
       "  </thead>\n",
       "  <tbody>\n",
       "    <tr>\n",
       "      <th>0</th>\n",
       "      <td>.</td>\n",
       "      <td>LITERATURA</td>\n",
       "      <td>Antología poética</td>\n",
       "      <td>Marechal, Leopoldo (1900-1970); Andrés, Alfred...</td>\n",
       "      <td>Aguilar</td>\n",
       "      <td>1969</td>\n",
       "      <td>Buenos Aires</td>\n",
       "      <td>- LITERATURA ARGENTINA-POESIA</td>\n",
       "      <td>31/07/2001</td>\n",
       "    </tr>\n",
       "    <tr>\n",
       "      <th>1</th>\n",
       "      <td>950-515-107-1</td>\n",
       "      <td>LITERATURA</td>\n",
       "      <td>De mala muerte</td>\n",
       "      <td>Abós, Álvaro (1941-...)</td>\n",
       "      <td>De la Flor</td>\n",
       "      <td>1986</td>\n",
       "      <td>Buenos Aires</td>\n",
       "      <td>- LITERATURA ARGENTINA-CUENTO</td>\n",
       "      <td>01/03/1996</td>\n",
       "    </tr>\n",
       "    <tr>\n",
       "      <th>2</th>\n",
       "      <td>84-261-0664-1</td>\n",
       "      <td>TEXTO NO LITERARIO</td>\n",
       "      <td>Confesiones</td>\n",
       "      <td>Agustín, Santo (354-430); Esclassana, A. (trad.)</td>\n",
       "      <td>Juventud</td>\n",
       "      <td>1986</td>\n",
       "      <td>Barcelona</td>\n",
       "      <td>AGUSTIN FILOSOFIA-AGUSTIN SANTO -</td>\n",
       "      <td>01/03/1996</td>\n",
       "    </tr>\n",
       "    <tr>\n",
       "      <th>3</th>\n",
       "      <td>.</td>\n",
       "      <td>LITERATURA</td>\n",
       "      <td>El Capitán Veneno</td>\n",
       "      <td>Alarcón, Pedro Antonio de (1833-1891)</td>\n",
       "      <td>Colihue</td>\n",
       "      <td>1985</td>\n",
       "      <td>Buenos Aires</td>\n",
       "      <td>- LITERATURA ESPAÑOLA-NOVELA</td>\n",
       "      <td>01/03/1996</td>\n",
       "    </tr>\n",
       "    <tr>\n",
       "      <th>4</th>\n",
       "      <td>.</td>\n",
       "      <td>LITERATURA</td>\n",
       "      <td>El sombrero de tres picos</td>\n",
       "      <td>Alarcón, Pedro Antonio de (1833-1891)</td>\n",
       "      <td>Huemul</td>\n",
       "      <td>1971</td>\n",
       "      <td>Buenos Aires</td>\n",
       "      <td>- LITERATURA ESPAÑOLA-NOVELA</td>\n",
       "      <td>01/03/1996</td>\n",
       "    </tr>\n",
       "    <tr>\n",
       "      <th>...</th>\n",
       "      <td>...</td>\n",
       "      <td>...</td>\n",
       "      <td>...</td>\n",
       "      <td>...</td>\n",
       "      <td>...</td>\n",
       "      <td>...</td>\n",
       "      <td>...</td>\n",
       "      <td>...</td>\n",
       "      <td>...</td>\n",
       "    </tr>\n",
       "    <tr>\n",
       "      <th>340</th>\n",
       "      <td>950-13-2067-7</td>\n",
       "      <td>TEXTO NO LITERARIO</td>\n",
       "      <td>Nuevo castellano 1 : Lengua y literatura. Leng...</td>\n",
       "      <td>Lacau, María Hortensia (1910-2006); Rosetti, M...</td>\n",
       "      <td>Kapelusz</td>\n",
       "      <td>1983</td>\n",
       "      <td>Buenos Aires</td>\n",
       "      <td>CASTELLANO-TEXTO SECUNDARIO LITERATURA -TEXTO...</td>\n",
       "      <td>12/03/1996</td>\n",
       "    </tr>\n",
       "    <tr>\n",
       "      <th>341</th>\n",
       "      <td>.</td>\n",
       "      <td>TEXTO NO LITERARIO</td>\n",
       "      <td>Nuevo castellano 2 : Lengua y literatura. Leng...</td>\n",
       "      <td>Lacau, María Hortensia (1910-2006); Rosetti, M...</td>\n",
       "      <td>Kapelusz</td>\n",
       "      <td>1982</td>\n",
       "      <td>Buenos Aires</td>\n",
       "      <td>LENGUA -TEXTO SECUNDARIO LITERATURA -TEXTO SE...</td>\n",
       "      <td>12/03/1996</td>\n",
       "    </tr>\n",
       "    <tr>\n",
       "      <th>342</th>\n",
       "      <td>950-13-2069-3</td>\n",
       "      <td>TEXTO NO LITERARIO</td>\n",
       "      <td>Nuevo castellano 3 : Lengua y literatura. Leng...</td>\n",
       "      <td>Lacau, María Hortensia (1910-2006); Rosetti, M...</td>\n",
       "      <td>Kapelusz</td>\n",
       "      <td>1982</td>\n",
       "      <td>Buenos Aires</td>\n",
       "      <td>LENGUA -TEXTO SECUNDARIO COMUNICACION-TEXTO S...</td>\n",
       "      <td>12/03/1996</td>\n",
       "    </tr>\n",
       "    <tr>\n",
       "      <th>343</th>\n",
       "      <td>950-46-0121-9</td>\n",
       "      <td>TEXTO NO LITERARIO</td>\n",
       "      <td>Ciencias biológicas 3</td>\n",
       "      <td>Rubel, Diana Nora; Guahnon, Esther Liliana; La...</td>\n",
       "      <td>Santillana</td>\n",
       "      <td>1990</td>\n",
       "      <td>Buenos Aires</td>\n",
       "      <td>BIOLOGIA-TEXTO SECUNDARIO</td>\n",
       "      <td>12/03/1996</td>\n",
       "    </tr>\n",
       "    <tr>\n",
       "      <th>344</th>\n",
       "      <td>950-581-039-5</td>\n",
       "      <td>LITERATURA</td>\n",
       "      <td>Las de Barranco</td>\n",
       "      <td>Laferrére, Gregorio de (1867-1913)</td>\n",
       "      <td>Colihue</td>\n",
       "      <td>1988</td>\n",
       "      <td>Buenos Aires</td>\n",
       "      <td>- LITERATURA ARGENTINA-TEATRO</td>\n",
       "      <td>12/03/1996</td>\n",
       "    </tr>\n",
       "  </tbody>\n",
       "</table>\n",
       "<p>345 rows × 9 columns</p>\n",
       "</div>"
      ],
      "text/plain": [
       "              ISBN          Tipo_Texto   \n",
       "0                .          LITERATURA  \\\n",
       "1    950-515-107-1          LITERATURA   \n",
       "2    84-261-0664-1  TEXTO NO LITERARIO   \n",
       "3                .          LITERATURA   \n",
       "4                .          LITERATURA   \n",
       "..             ...                 ...   \n",
       "340  950-13-2067-7  TEXTO NO LITERARIO   \n",
       "341              .  TEXTO NO LITERARIO   \n",
       "342  950-13-2069-3  TEXTO NO LITERARIO   \n",
       "343  950-46-0121-9  TEXTO NO LITERARIO   \n",
       "344  950-581-039-5          LITERATURA   \n",
       "\n",
       "                                                Título   \n",
       "0                                    Antología poética  \\\n",
       "1                                       De mala muerte   \n",
       "2                                          Confesiones   \n",
       "3                                    El Capitán Veneno   \n",
       "4                            El sombrero de tres picos   \n",
       "..                                                 ...   \n",
       "340  Nuevo castellano 1 : Lengua y literatura. Leng...   \n",
       "341  Nuevo castellano 2 : Lengua y literatura. Leng...   \n",
       "342  Nuevo castellano 3 : Lengua y literatura. Leng...   \n",
       "343                              Ciencias biológicas 3   \n",
       "344                                    Las de Barranco   \n",
       "\n",
       "                                                 Autor   Editorial   \n",
       "0    Marechal, Leopoldo (1900-1970); Andrés, Alfred...     Aguilar  \\\n",
       "1                              Abós, Álvaro (1941-...)  De la Flor   \n",
       "2     Agustín, Santo (354-430); Esclassana, A. (trad.)    Juventud   \n",
       "3                Alarcón, Pedro Antonio de (1833-1891)     Colihue   \n",
       "4                Alarcón, Pedro Antonio de (1833-1891)      Huemul   \n",
       "..                                                 ...         ...   \n",
       "340  Lacau, María Hortensia (1910-2006); Rosetti, M...    Kapelusz   \n",
       "341  Lacau, María Hortensia (1910-2006); Rosetti, M...    Kapelusz   \n",
       "342  Lacau, María Hortensia (1910-2006); Rosetti, M...    Kapelusz   \n",
       "343  Rubel, Diana Nora; Guahnon, Esther Liliana; La...  Santillana   \n",
       "344                 Laferrére, Gregorio de (1867-1913)     Colihue   \n",
       "\n",
       "    Fecha_Edición Lugar_Edición   \n",
       "0            1969  Buenos Aires  \\\n",
       "1            1986  Buenos Aires   \n",
       "2            1986     Barcelona   \n",
       "3            1985  Buenos Aires   \n",
       "4            1971  Buenos Aires   \n",
       "..            ...           ...   \n",
       "340          1983  Buenos Aires   \n",
       "341          1982  Buenos Aires   \n",
       "342          1982  Buenos Aires   \n",
       "343          1990  Buenos Aires   \n",
       "344          1988  Buenos Aires   \n",
       "\n",
       "                                               Materia  Fecha_Alta  \n",
       "0                        - LITERATURA ARGENTINA-POESIA  31/07/2001  \n",
       "1                        - LITERATURA ARGENTINA-CUENTO  01/03/1996  \n",
       "2                    AGUSTIN FILOSOFIA-AGUSTIN SANTO -  01/03/1996  \n",
       "3                         - LITERATURA ESPAÑOLA-NOVELA  01/03/1996  \n",
       "4                         - LITERATURA ESPAÑOLA-NOVELA  01/03/1996  \n",
       "..                                                 ...         ...  \n",
       "340   CASTELLANO-TEXTO SECUNDARIO LITERATURA -TEXTO...  12/03/1996  \n",
       "341   LENGUA -TEXTO SECUNDARIO LITERATURA -TEXTO SE...  12/03/1996  \n",
       "342   LENGUA -TEXTO SECUNDARIO COMUNICACION-TEXTO S...  12/03/1996  \n",
       "343                          BIOLOGIA-TEXTO SECUNDARIO  12/03/1996  \n",
       "344                      - LITERATURA ARGENTINA-TEATRO  12/03/1996  \n",
       "\n",
       "[345 rows x 9 columns]"
      ]
     },
     "execution_count": 15,
     "metadata": {},
     "output_type": "execute_result"
    }
   ],
   "source": [
    "#Se crea un DataFrame con pandas\n",
    "df = pd.DataFrame(list(zip(isbn,tipo_texto, titulo, autor, editorial, fecha_edicion, lugar_edicion, materia,fecha_alta)),\n",
    "                  columns=['ISBN','Tipo_Texto', 'Título', 'Autor','Editorial','Fecha_Edición','Lugar_Edición','Materia','Fecha_Alta'])\n",
    "df = df.reset_index(drop=True)\n",
    "df\n"
   ]
  },
  {
   "cell_type": "code",
   "execution_count": 16,
   "metadata": {},
   "outputs": [
    {
     "data": {
      "text/plain": [
       "345"
      ]
     },
     "execution_count": 16,
     "metadata": {},
     "output_type": "execute_result"
    }
   ],
   "source": [
    "len(df)"
   ]
  },
  {
   "cell_type": "code",
   "execution_count": 52,
   "metadata": {},
   "outputs": [],
   "source": [
    "#Se exportan los datos a archivos csv y xlsx\n",
    "\n",
    "df.to_csv('D:\\codoacodo 14\\library_scraping\\library_catalog.csv', index=True)\n",
    "\n",
    "df.to_excel(\"D:\\codoacodo 14\\library_scraping\\library_catalog.xlsx\", index=False)\n"
   ]
  }
 ],
 "metadata": {
  "kernelspec": {
   "display_name": "Python 3",
   "language": "python",
   "name": "python3"
  },
  "language_info": {
   "codemirror_mode": {
    "name": "ipython",
    "version": 3
   },
   "file_extension": ".py",
   "mimetype": "text/x-python",
   "name": "python",
   "nbconvert_exporter": "python",
   "pygments_lexer": "ipython3",
   "version": "3.10.11"
  },
  "orig_nbformat": 4
 },
 "nbformat": 4,
 "nbformat_minor": 2
}
